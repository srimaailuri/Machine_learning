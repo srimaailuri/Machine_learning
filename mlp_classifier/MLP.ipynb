{
  "nbformat": 4,
  "nbformat_minor": 0,
  "metadata": {
    "colab": {
      "provenance": [],
      "include_colab_link": true
    },
    "kernelspec": {
      "name": "python3",
      "display_name": "Python 3"
    },
    "language_info": {
      "name": "python"
    }
  },
  "cells": [
    {
      "cell_type": "markdown",
      "metadata": {
        "id": "view-in-github",
        "colab_type": "text"
      },
      "source": [
        "<a href=\"https://colab.research.google.com/github/srimaailuri/Machine_learning/blob/master/mlp_classifier/MLP.ipynb\" target=\"_parent\"><img src=\"https://colab.research.google.com/assets/colab-badge.svg\" alt=\"Open In Colab\"/></a>"
      ]
    },
    {
      "cell_type": "code",
      "source": [
        "from google.colab import drive\n",
        "drive.mount('/content/gdrive')"
      ],
      "metadata": {
        "id": "9sfxj7KIenKS",
        "colab": {
          "base_uri": "https://localhost:8080/"
        },
        "outputId": "6fb70295-71ec-4a30-b889-cdcfdda2cc73"
      },
      "execution_count": null,
      "outputs": [
        {
          "output_type": "stream",
          "name": "stdout",
          "text": [
            "Mounted at /content/gdrive\n"
          ]
        }
      ]
    },
    {
      "cell_type": "code",
      "source": [
        "%cd '/content/gdrive/My Drive/srima_DL_Lab/week 2'"
      ],
      "metadata": {
        "id": "LAbSojCDeoB5",
        "colab": {
          "base_uri": "https://localhost:8080/"
        },
        "outputId": "c294064a-be08-40c3-b70d-16ff02955dce"
      },
      "execution_count": null,
      "outputs": [
        {
          "output_type": "stream",
          "name": "stdout",
          "text": [
            "/content/gdrive/My Drive/srima_DL_Lab/week 2\n"
          ]
        }
      ]
    },
    {
      "cell_type": "code",
      "execution_count": null,
      "metadata": {
        "id": "D8YU1WQMdV8W",
        "colab": {
          "base_uri": "https://localhost:8080/",
          "height": 206
        },
        "outputId": "a0c7971a-927e-477b-d928-b74735ab898c"
      },
      "outputs": [
        {
          "output_type": "execute_result",
          "data": {
            "text/plain": [
              "   Id  SepalLengthCm  SepalWidthCm  PetalLengthCm  PetalWidthCm  Species\n",
              "0   1            5.1           3.5            1.4           0.2        0\n",
              "1   2            4.9           3.0            1.4           0.2        0\n",
              "2   3            4.7           3.2            1.3           0.2        0\n",
              "3   4            4.6           3.1            1.5           0.2        0\n",
              "4   5            5.0           3.6            1.4           0.2        0"
            ],
            "text/html": [
              "\n",
              "\n",
              "  <div id=\"df-d60e9634-422f-4d2f-acc4-2e2d7c0177c7\">\n",
              "    <div class=\"colab-df-container\">\n",
              "      <div>\n",
              "<style scoped>\n",
              "    .dataframe tbody tr th:only-of-type {\n",
              "        vertical-align: middle;\n",
              "    }\n",
              "\n",
              "    .dataframe tbody tr th {\n",
              "        vertical-align: top;\n",
              "    }\n",
              "\n",
              "    .dataframe thead th {\n",
              "        text-align: right;\n",
              "    }\n",
              "</style>\n",
              "<table border=\"1\" class=\"dataframe\">\n",
              "  <thead>\n",
              "    <tr style=\"text-align: right;\">\n",
              "      <th></th>\n",
              "      <th>Id</th>\n",
              "      <th>SepalLengthCm</th>\n",
              "      <th>SepalWidthCm</th>\n",
              "      <th>PetalLengthCm</th>\n",
              "      <th>PetalWidthCm</th>\n",
              "      <th>Species</th>\n",
              "    </tr>\n",
              "  </thead>\n",
              "  <tbody>\n",
              "    <tr>\n",
              "      <th>0</th>\n",
              "      <td>1</td>\n",
              "      <td>5.1</td>\n",
              "      <td>3.5</td>\n",
              "      <td>1.4</td>\n",
              "      <td>0.2</td>\n",
              "      <td>0</td>\n",
              "    </tr>\n",
              "    <tr>\n",
              "      <th>1</th>\n",
              "      <td>2</td>\n",
              "      <td>4.9</td>\n",
              "      <td>3.0</td>\n",
              "      <td>1.4</td>\n",
              "      <td>0.2</td>\n",
              "      <td>0</td>\n",
              "    </tr>\n",
              "    <tr>\n",
              "      <th>2</th>\n",
              "      <td>3</td>\n",
              "      <td>4.7</td>\n",
              "      <td>3.2</td>\n",
              "      <td>1.3</td>\n",
              "      <td>0.2</td>\n",
              "      <td>0</td>\n",
              "    </tr>\n",
              "    <tr>\n",
              "      <th>3</th>\n",
              "      <td>4</td>\n",
              "      <td>4.6</td>\n",
              "      <td>3.1</td>\n",
              "      <td>1.5</td>\n",
              "      <td>0.2</td>\n",
              "      <td>0</td>\n",
              "    </tr>\n",
              "    <tr>\n",
              "      <th>4</th>\n",
              "      <td>5</td>\n",
              "      <td>5.0</td>\n",
              "      <td>3.6</td>\n",
              "      <td>1.4</td>\n",
              "      <td>0.2</td>\n",
              "      <td>0</td>\n",
              "    </tr>\n",
              "  </tbody>\n",
              "</table>\n",
              "</div>\n",
              "      <button class=\"colab-df-convert\" onclick=\"convertToInteractive('df-d60e9634-422f-4d2f-acc4-2e2d7c0177c7')\"\n",
              "              title=\"Convert this dataframe to an interactive table.\"\n",
              "              style=\"display:none;\">\n",
              "\n",
              "  <svg xmlns=\"http://www.w3.org/2000/svg\" height=\"24px\"viewBox=\"0 0 24 24\"\n",
              "       width=\"24px\">\n",
              "    <path d=\"M0 0h24v24H0V0z\" fill=\"none\"/>\n",
              "    <path d=\"M18.56 5.44l.94 2.06.94-2.06 2.06-.94-2.06-.94-.94-2.06-.94 2.06-2.06.94zm-11 1L8.5 8.5l.94-2.06 2.06-.94-2.06-.94L8.5 2.5l-.94 2.06-2.06.94zm10 10l.94 2.06.94-2.06 2.06-.94-2.06-.94-.94-2.06-.94 2.06-2.06.94z\"/><path d=\"M17.41 7.96l-1.37-1.37c-.4-.4-.92-.59-1.43-.59-.52 0-1.04.2-1.43.59L10.3 9.45l-7.72 7.72c-.78.78-.78 2.05 0 2.83L4 21.41c.39.39.9.59 1.41.59.51 0 1.02-.2 1.41-.59l7.78-7.78 2.81-2.81c.8-.78.8-2.07 0-2.86zM5.41 20L4 18.59l7.72-7.72 1.47 1.35L5.41 20z\"/>\n",
              "  </svg>\n",
              "      </button>\n",
              "\n",
              "\n",
              "\n",
              "    <div id=\"df-52bc7e3d-b5d5-4375-9696-1da8f04368dd\">\n",
              "      <button class=\"colab-df-quickchart\" onclick=\"quickchart('df-52bc7e3d-b5d5-4375-9696-1da8f04368dd')\"\n",
              "              title=\"Suggest charts.\"\n",
              "              style=\"display:none;\">\n",
              "\n",
              "<svg xmlns=\"http://www.w3.org/2000/svg\" height=\"24px\"viewBox=\"0 0 24 24\"\n",
              "     width=\"24px\">\n",
              "    <g>\n",
              "        <path d=\"M19 3H5c-1.1 0-2 .9-2 2v14c0 1.1.9 2 2 2h14c1.1 0 2-.9 2-2V5c0-1.1-.9-2-2-2zM9 17H7v-7h2v7zm4 0h-2V7h2v10zm4 0h-2v-4h2v4z\"/>\n",
              "    </g>\n",
              "</svg>\n",
              "      </button>\n",
              "    </div>\n",
              "\n",
              "<style>\n",
              "  .colab-df-quickchart {\n",
              "    background-color: #E8F0FE;\n",
              "    border: none;\n",
              "    border-radius: 50%;\n",
              "    cursor: pointer;\n",
              "    display: none;\n",
              "    fill: #1967D2;\n",
              "    height: 32px;\n",
              "    padding: 0 0 0 0;\n",
              "    width: 32px;\n",
              "  }\n",
              "\n",
              "  .colab-df-quickchart:hover {\n",
              "    background-color: #E2EBFA;\n",
              "    box-shadow: 0px 1px 2px rgba(60, 64, 67, 0.3), 0px 1px 3px 1px rgba(60, 64, 67, 0.15);\n",
              "    fill: #174EA6;\n",
              "  }\n",
              "\n",
              "  [theme=dark] .colab-df-quickchart {\n",
              "    background-color: #3B4455;\n",
              "    fill: #D2E3FC;\n",
              "  }\n",
              "\n",
              "  [theme=dark] .colab-df-quickchart:hover {\n",
              "    background-color: #434B5C;\n",
              "    box-shadow: 0px 1px 3px 1px rgba(0, 0, 0, 0.15);\n",
              "    filter: drop-shadow(0px 1px 2px rgba(0, 0, 0, 0.3));\n",
              "    fill: #FFFFFF;\n",
              "  }\n",
              "</style>\n",
              "\n",
              "    <script>\n",
              "      async function quickchart(key) {\n",
              "        const containerElement = document.querySelector('#' + key);\n",
              "        const charts = await google.colab.kernel.invokeFunction(\n",
              "            'suggestCharts', [key], {});\n",
              "      }\n",
              "    </script>\n",
              "\n",
              "      <script>\n",
              "\n",
              "function displayQuickchartButton(domScope) {\n",
              "  let quickchartButtonEl =\n",
              "    domScope.querySelector('#df-52bc7e3d-b5d5-4375-9696-1da8f04368dd button.colab-df-quickchart');\n",
              "  quickchartButtonEl.style.display =\n",
              "    google.colab.kernel.accessAllowed ? 'block' : 'none';\n",
              "}\n",
              "\n",
              "        displayQuickchartButton(document);\n",
              "      </script>\n",
              "      <style>\n",
              "    .colab-df-container {\n",
              "      display:flex;\n",
              "      flex-wrap:wrap;\n",
              "      gap: 12px;\n",
              "    }\n",
              "\n",
              "    .colab-df-convert {\n",
              "      background-color: #E8F0FE;\n",
              "      border: none;\n",
              "      border-radius: 50%;\n",
              "      cursor: pointer;\n",
              "      display: none;\n",
              "      fill: #1967D2;\n",
              "      height: 32px;\n",
              "      padding: 0 0 0 0;\n",
              "      width: 32px;\n",
              "    }\n",
              "\n",
              "    .colab-df-convert:hover {\n",
              "      background-color: #E2EBFA;\n",
              "      box-shadow: 0px 1px 2px rgba(60, 64, 67, 0.3), 0px 1px 3px 1px rgba(60, 64, 67, 0.15);\n",
              "      fill: #174EA6;\n",
              "    }\n",
              "\n",
              "    [theme=dark] .colab-df-convert {\n",
              "      background-color: #3B4455;\n",
              "      fill: #D2E3FC;\n",
              "    }\n",
              "\n",
              "    [theme=dark] .colab-df-convert:hover {\n",
              "      background-color: #434B5C;\n",
              "      box-shadow: 0px 1px 3px 1px rgba(0, 0, 0, 0.15);\n",
              "      filter: drop-shadow(0px 1px 2px rgba(0, 0, 0, 0.3));\n",
              "      fill: #FFFFFF;\n",
              "    }\n",
              "  </style>\n",
              "\n",
              "      <script>\n",
              "        const buttonEl =\n",
              "          document.querySelector('#df-d60e9634-422f-4d2f-acc4-2e2d7c0177c7 button.colab-df-convert');\n",
              "        buttonEl.style.display =\n",
              "          google.colab.kernel.accessAllowed ? 'block' : 'none';\n",
              "\n",
              "        async function convertToInteractive(key) {\n",
              "          const element = document.querySelector('#df-d60e9634-422f-4d2f-acc4-2e2d7c0177c7');\n",
              "          const dataTable =\n",
              "            await google.colab.kernel.invokeFunction('convertToInteractive',\n",
              "                                                     [key], {});\n",
              "          if (!dataTable) return;\n",
              "\n",
              "          const docLinkHtml = 'Like what you see? Visit the ' +\n",
              "            '<a target=\"_blank\" href=https://colab.research.google.com/notebooks/data_table.ipynb>data table notebook</a>'\n",
              "            + ' to learn more about interactive tables.';\n",
              "          element.innerHTML = '';\n",
              "          dataTable['output_type'] = 'display_data';\n",
              "          await google.colab.output.renderOutput(dataTable, element);\n",
              "          const docLink = document.createElement('div');\n",
              "          docLink.innerHTML = docLinkHtml;\n",
              "          element.appendChild(docLink);\n",
              "        }\n",
              "      </script>\n",
              "    </div>\n",
              "  </div>\n"
            ]
          },
          "metadata": {},
          "execution_count": 3
        }
      ],
      "source": [
        "import numpy as np\n",
        "import pandas as pd\n",
        "\n",
        "# Load data\n",
        "data=pd.read_csv('Iris-new (2).csv')\n",
        "\n",
        "data.head()"
      ]
    },
    {
      "cell_type": "code",
      "source": [
        "data.columns"
      ],
      "metadata": {
        "colab": {
          "base_uri": "https://localhost:8080/"
        },
        "id": "0HbUzuFjtN8j",
        "outputId": "bdb15831-301b-4160-d5ab-a843d5706487"
      },
      "execution_count": null,
      "outputs": [
        {
          "output_type": "execute_result",
          "data": {
            "text/plain": [
              "Index(['Id', 'SepalLengthCm', 'SepalWidthCm', 'PetalLengthCm', 'PetalWidthCm',\n",
              "       'Species'],\n",
              "      dtype='object')"
            ]
          },
          "metadata": {},
          "execution_count": 4
        }
      ]
    },
    {
      "cell_type": "code",
      "source": [
        "X=data.iloc[:,1:5]"
      ],
      "metadata": {
        "id": "-OH1LbhC8a-K"
      },
      "execution_count": 36,
      "outputs": []
    },
    {
      "cell_type": "code",
      "source": [
        "X.head()"
      ],
      "metadata": {
        "id": "_VafM6YF8j-K",
        "colab": {
          "base_uri": "https://localhost:8080/",
          "height": 206
        },
        "outputId": "62396dda-f73f-4201-cd67-8efda5e4e6d1"
      },
      "execution_count": 11,
      "outputs": [
        {
          "output_type": "execute_result",
          "data": {
            "text/plain": [
              "   SepalLengthCm  SepalWidthCm  PetalLengthCm  PetalWidthCm\n",
              "0            5.1           3.5            1.4           0.2\n",
              "1            4.9           3.0            1.4           0.2\n",
              "2            4.7           3.2            1.3           0.2\n",
              "3            4.6           3.1            1.5           0.2\n",
              "4            5.0           3.6            1.4           0.2"
            ],
            "text/html": [
              "\n",
              "\n",
              "  <div id=\"df-5c1d39b6-4e87-4af7-9d6e-4820cb862504\">\n",
              "    <div class=\"colab-df-container\">\n",
              "      <div>\n",
              "<style scoped>\n",
              "    .dataframe tbody tr th:only-of-type {\n",
              "        vertical-align: middle;\n",
              "    }\n",
              "\n",
              "    .dataframe tbody tr th {\n",
              "        vertical-align: top;\n",
              "    }\n",
              "\n",
              "    .dataframe thead th {\n",
              "        text-align: right;\n",
              "    }\n",
              "</style>\n",
              "<table border=\"1\" class=\"dataframe\">\n",
              "  <thead>\n",
              "    <tr style=\"text-align: right;\">\n",
              "      <th></th>\n",
              "      <th>SepalLengthCm</th>\n",
              "      <th>SepalWidthCm</th>\n",
              "      <th>PetalLengthCm</th>\n",
              "      <th>PetalWidthCm</th>\n",
              "    </tr>\n",
              "  </thead>\n",
              "  <tbody>\n",
              "    <tr>\n",
              "      <th>0</th>\n",
              "      <td>5.1</td>\n",
              "      <td>3.5</td>\n",
              "      <td>1.4</td>\n",
              "      <td>0.2</td>\n",
              "    </tr>\n",
              "    <tr>\n",
              "      <th>1</th>\n",
              "      <td>4.9</td>\n",
              "      <td>3.0</td>\n",
              "      <td>1.4</td>\n",
              "      <td>0.2</td>\n",
              "    </tr>\n",
              "    <tr>\n",
              "      <th>2</th>\n",
              "      <td>4.7</td>\n",
              "      <td>3.2</td>\n",
              "      <td>1.3</td>\n",
              "      <td>0.2</td>\n",
              "    </tr>\n",
              "    <tr>\n",
              "      <th>3</th>\n",
              "      <td>4.6</td>\n",
              "      <td>3.1</td>\n",
              "      <td>1.5</td>\n",
              "      <td>0.2</td>\n",
              "    </tr>\n",
              "    <tr>\n",
              "      <th>4</th>\n",
              "      <td>5.0</td>\n",
              "      <td>3.6</td>\n",
              "      <td>1.4</td>\n",
              "      <td>0.2</td>\n",
              "    </tr>\n",
              "  </tbody>\n",
              "</table>\n",
              "</div>\n",
              "      <button class=\"colab-df-convert\" onclick=\"convertToInteractive('df-5c1d39b6-4e87-4af7-9d6e-4820cb862504')\"\n",
              "              title=\"Convert this dataframe to an interactive table.\"\n",
              "              style=\"display:none;\">\n",
              "\n",
              "  <svg xmlns=\"http://www.w3.org/2000/svg\" height=\"24px\"viewBox=\"0 0 24 24\"\n",
              "       width=\"24px\">\n",
              "    <path d=\"M0 0h24v24H0V0z\" fill=\"none\"/>\n",
              "    <path d=\"M18.56 5.44l.94 2.06.94-2.06 2.06-.94-2.06-.94-.94-2.06-.94 2.06-2.06.94zm-11 1L8.5 8.5l.94-2.06 2.06-.94-2.06-.94L8.5 2.5l-.94 2.06-2.06.94zm10 10l.94 2.06.94-2.06 2.06-.94-2.06-.94-.94-2.06-.94 2.06-2.06.94z\"/><path d=\"M17.41 7.96l-1.37-1.37c-.4-.4-.92-.59-1.43-.59-.52 0-1.04.2-1.43.59L10.3 9.45l-7.72 7.72c-.78.78-.78 2.05 0 2.83L4 21.41c.39.39.9.59 1.41.59.51 0 1.02-.2 1.41-.59l7.78-7.78 2.81-2.81c.8-.78.8-2.07 0-2.86zM5.41 20L4 18.59l7.72-7.72 1.47 1.35L5.41 20z\"/>\n",
              "  </svg>\n",
              "      </button>\n",
              "\n",
              "\n",
              "\n",
              "    <div id=\"df-dd83cb6d-cace-4a17-a621-48c48b8f73a9\">\n",
              "      <button class=\"colab-df-quickchart\" onclick=\"quickchart('df-dd83cb6d-cace-4a17-a621-48c48b8f73a9')\"\n",
              "              title=\"Suggest charts.\"\n",
              "              style=\"display:none;\">\n",
              "\n",
              "<svg xmlns=\"http://www.w3.org/2000/svg\" height=\"24px\"viewBox=\"0 0 24 24\"\n",
              "     width=\"24px\">\n",
              "    <g>\n",
              "        <path d=\"M19 3H5c-1.1 0-2 .9-2 2v14c0 1.1.9 2 2 2h14c1.1 0 2-.9 2-2V5c0-1.1-.9-2-2-2zM9 17H7v-7h2v7zm4 0h-2V7h2v10zm4 0h-2v-4h2v4z\"/>\n",
              "    </g>\n",
              "</svg>\n",
              "      </button>\n",
              "    </div>\n",
              "\n",
              "<style>\n",
              "  .colab-df-quickchart {\n",
              "    background-color: #E8F0FE;\n",
              "    border: none;\n",
              "    border-radius: 50%;\n",
              "    cursor: pointer;\n",
              "    display: none;\n",
              "    fill: #1967D2;\n",
              "    height: 32px;\n",
              "    padding: 0 0 0 0;\n",
              "    width: 32px;\n",
              "  }\n",
              "\n",
              "  .colab-df-quickchart:hover {\n",
              "    background-color: #E2EBFA;\n",
              "    box-shadow: 0px 1px 2px rgba(60, 64, 67, 0.3), 0px 1px 3px 1px rgba(60, 64, 67, 0.15);\n",
              "    fill: #174EA6;\n",
              "  }\n",
              "\n",
              "  [theme=dark] .colab-df-quickchart {\n",
              "    background-color: #3B4455;\n",
              "    fill: #D2E3FC;\n",
              "  }\n",
              "\n",
              "  [theme=dark] .colab-df-quickchart:hover {\n",
              "    background-color: #434B5C;\n",
              "    box-shadow: 0px 1px 3px 1px rgba(0, 0, 0, 0.15);\n",
              "    filter: drop-shadow(0px 1px 2px rgba(0, 0, 0, 0.3));\n",
              "    fill: #FFFFFF;\n",
              "  }\n",
              "</style>\n",
              "\n",
              "    <script>\n",
              "      async function quickchart(key) {\n",
              "        const containerElement = document.querySelector('#' + key);\n",
              "        const charts = await google.colab.kernel.invokeFunction(\n",
              "            'suggestCharts', [key], {});\n",
              "      }\n",
              "    </script>\n",
              "\n",
              "      <script>\n",
              "\n",
              "function displayQuickchartButton(domScope) {\n",
              "  let quickchartButtonEl =\n",
              "    domScope.querySelector('#df-dd83cb6d-cace-4a17-a621-48c48b8f73a9 button.colab-df-quickchart');\n",
              "  quickchartButtonEl.style.display =\n",
              "    google.colab.kernel.accessAllowed ? 'block' : 'none';\n",
              "}\n",
              "\n",
              "        displayQuickchartButton(document);\n",
              "      </script>\n",
              "      <style>\n",
              "    .colab-df-container {\n",
              "      display:flex;\n",
              "      flex-wrap:wrap;\n",
              "      gap: 12px;\n",
              "    }\n",
              "\n",
              "    .colab-df-convert {\n",
              "      background-color: #E8F0FE;\n",
              "      border: none;\n",
              "      border-radius: 50%;\n",
              "      cursor: pointer;\n",
              "      display: none;\n",
              "      fill: #1967D2;\n",
              "      height: 32px;\n",
              "      padding: 0 0 0 0;\n",
              "      width: 32px;\n",
              "    }\n",
              "\n",
              "    .colab-df-convert:hover {\n",
              "      background-color: #E2EBFA;\n",
              "      box-shadow: 0px 1px 2px rgba(60, 64, 67, 0.3), 0px 1px 3px 1px rgba(60, 64, 67, 0.15);\n",
              "      fill: #174EA6;\n",
              "    }\n",
              "\n",
              "    [theme=dark] .colab-df-convert {\n",
              "      background-color: #3B4455;\n",
              "      fill: #D2E3FC;\n",
              "    }\n",
              "\n",
              "    [theme=dark] .colab-df-convert:hover {\n",
              "      background-color: #434B5C;\n",
              "      box-shadow: 0px 1px 3px 1px rgba(0, 0, 0, 0.15);\n",
              "      filter: drop-shadow(0px 1px 2px rgba(0, 0, 0, 0.3));\n",
              "      fill: #FFFFFF;\n",
              "    }\n",
              "  </style>\n",
              "\n",
              "      <script>\n",
              "        const buttonEl =\n",
              "          document.querySelector('#df-5c1d39b6-4e87-4af7-9d6e-4820cb862504 button.colab-df-convert');\n",
              "        buttonEl.style.display =\n",
              "          google.colab.kernel.accessAllowed ? 'block' : 'none';\n",
              "\n",
              "        async function convertToInteractive(key) {\n",
              "          const element = document.querySelector('#df-5c1d39b6-4e87-4af7-9d6e-4820cb862504');\n",
              "          const dataTable =\n",
              "            await google.colab.kernel.invokeFunction('convertToInteractive',\n",
              "                                                     [key], {});\n",
              "          if (!dataTable) return;\n",
              "\n",
              "          const docLinkHtml = 'Like what you see? Visit the ' +\n",
              "            '<a target=\"_blank\" href=https://colab.research.google.com/notebooks/data_table.ipynb>data table notebook</a>'\n",
              "            + ' to learn more about interactive tables.';\n",
              "          element.innerHTML = '';\n",
              "          dataTable['output_type'] = 'display_data';\n",
              "          await google.colab.output.renderOutput(dataTable, element);\n",
              "          const docLink = document.createElement('div');\n",
              "          docLink.innerHTML = docLinkHtml;\n",
              "          element.appendChild(docLink);\n",
              "        }\n",
              "      </script>\n",
              "    </div>\n",
              "  </div>\n"
            ]
          },
          "metadata": {},
          "execution_count": 11
        }
      ]
    },
    {
      "cell_type": "code",
      "source": [
        "#X=data[['SepalLengthCm','SepalWidthCm','PetalLengthCm','PetalWidthCm']]\n",
        "y=data.iloc[:,-1]"
      ],
      "metadata": {
        "id": "2jvJo0qisfUi"
      },
      "execution_count": 13,
      "outputs": []
    },
    {
      "cell_type": "code",
      "source": [],
      "metadata": {
        "id": "QzGC7uYotrNC"
      },
      "execution_count": 13,
      "outputs": []
    },
    {
      "cell_type": "code",
      "source": [],
      "metadata": {
        "id": "l3CYJEnndX8e"
      },
      "execution_count": 13,
      "outputs": []
    },
    {
      "cell_type": "code",
      "source": [
        "# Spliting data into Feature and\n",
        "#X=data[['satisfaction_level', 'last_evaluation', 'number_project', 'average_montly_hours', 'time_spend_company', 'Work_accident', 'promotion_last_5years', 'Departments ', 'salary']]\n",
        "#y=data['left']\n",
        "\n",
        "# Import train_test_split function\n",
        "from sklearn.model_selection import train_test_split\n",
        "\n",
        "# Split dataset into training set and test set\n",
        "X_train, X_test, y_train, y_test = train_test_split(X, y, test_size=0.3, random_state=42)  # 70% training and 30% test"
      ],
      "metadata": {
        "id": "8bwjmD1fdaol"
      },
      "execution_count": 14,
      "outputs": []
    },
    {
      "cell_type": "code",
      "source": [
        "# Import MLPClassifer\n",
        "from sklearn.neural_network import MLPClassifier"
      ],
      "metadata": {
        "id": "Ihf8kks_df0t"
      },
      "execution_count": 15,
      "outputs": []
    },
    {
      "cell_type": "markdown",
      "source": [
        "# ***Applying Adam classifier***"
      ],
      "metadata": {
        "id": "w0NPxcuc96zC"
      }
    },
    {
      "cell_type": "code",
      "source": [
        "clf = MLPClassifier(hidden_layer_sizes=(6,5),\n",
        "                    solver='adam',\n",
        "                    random_state=5,\n",
        "                    verbose=True,\n",
        "                    learning_rate_init=0.01)\n",
        "\n",
        "# Fit data onto the model\n",
        "clf.fit(X_train,y_train)"
      ],
      "metadata": {
        "colab": {
          "base_uri": "https://localhost:8080/",
          "height": 1000
        },
        "id": "TQ6v6VqT9ug-",
        "outputId": "d251924d-9ac6-4843-dcce-c73c15afec2c"
      },
      "execution_count": 16,
      "outputs": [
        {
          "output_type": "stream",
          "name": "stdout",
          "text": [
            "Iteration 1, loss = 1.35506854\n",
            "Iteration 2, loss = 1.27999888\n",
            "Iteration 3, loss = 1.21041075\n",
            "Iteration 4, loss = 1.14576532\n",
            "Iteration 5, loss = 1.08972046\n",
            "Iteration 6, loss = 1.04920622\n",
            "Iteration 7, loss = 1.01442134\n",
            "Iteration 8, loss = 0.98321630\n",
            "Iteration 9, loss = 0.95568467\n",
            "Iteration 10, loss = 0.93079136\n",
            "Iteration 11, loss = 0.90811747\n",
            "Iteration 12, loss = 0.88759212\n",
            "Iteration 13, loss = 0.86841651\n",
            "Iteration 14, loss = 0.85021572\n",
            "Iteration 15, loss = 0.83232394\n",
            "Iteration 16, loss = 0.81370119\n",
            "Iteration 17, loss = 0.79289950\n",
            "Iteration 18, loss = 0.76952148\n",
            "Iteration 19, loss = 0.74468198\n",
            "Iteration 20, loss = 0.71948005\n",
            "Iteration 21, loss = 0.69437466\n",
            "Iteration 22, loss = 0.66937842\n",
            "Iteration 23, loss = 0.64514851\n",
            "Iteration 24, loss = 0.62227408\n",
            "Iteration 25, loss = 0.60009846\n",
            "Iteration 26, loss = 0.57787614\n",
            "Iteration 27, loss = 0.55491283\n",
            "Iteration 28, loss = 0.53178016\n",
            "Iteration 29, loss = 0.50899778\n",
            "Iteration 30, loss = 0.48681362\n",
            "Iteration 31, loss = 0.46523811\n",
            "Iteration 32, loss = 0.44491639\n",
            "Iteration 33, loss = 0.42587590\n",
            "Iteration 34, loss = 0.40786336\n",
            "Iteration 35, loss = 0.39035023\n",
            "Iteration 36, loss = 0.37326600\n",
            "Iteration 37, loss = 0.35685861\n",
            "Iteration 38, loss = 0.34128649\n",
            "Iteration 39, loss = 0.32684774\n",
            "Iteration 40, loss = 0.31341361\n",
            "Iteration 41, loss = 0.30076140\n",
            "Iteration 42, loss = 0.28910267\n",
            "Iteration 43, loss = 0.27806570\n",
            "Iteration 44, loss = 0.26745105\n",
            "Iteration 45, loss = 0.25729847\n",
            "Iteration 46, loss = 0.24755956\n",
            "Iteration 47, loss = 0.23773154\n",
            "Iteration 48, loss = 0.22842472\n",
            "Iteration 49, loss = 0.21988570\n",
            "Iteration 50, loss = 0.21155778\n",
            "Iteration 51, loss = 0.20360147\n",
            "Iteration 52, loss = 0.19625436\n",
            "Iteration 53, loss = 0.18908542\n",
            "Iteration 54, loss = 0.18219511\n",
            "Iteration 55, loss = 0.17580220\n",
            "Iteration 56, loss = 0.16959217\n",
            "Iteration 57, loss = 0.16371307\n",
            "Iteration 58, loss = 0.15827058\n",
            "Iteration 59, loss = 0.15300608\n",
            "Iteration 60, loss = 0.14810965\n",
            "Iteration 61, loss = 0.14352093\n",
            "Iteration 62, loss = 0.13908360\n",
            "Iteration 63, loss = 0.13498760\n",
            "Iteration 64, loss = 0.13105922\n",
            "Iteration 65, loss = 0.12734932\n",
            "Iteration 66, loss = 0.12395210\n",
            "Iteration 67, loss = 0.12071929\n",
            "Iteration 68, loss = 0.11780031\n",
            "Iteration 69, loss = 0.11499259\n",
            "Iteration 70, loss = 0.11241261\n",
            "Iteration 71, loss = 0.10994981\n",
            "Iteration 72, loss = 0.10761912\n",
            "Iteration 73, loss = 0.10543820\n",
            "Iteration 74, loss = 0.10336352\n",
            "Iteration 75, loss = 0.10142789\n",
            "Iteration 76, loss = 0.09957319\n",
            "Iteration 77, loss = 0.09785620\n",
            "Iteration 78, loss = 0.09619069\n",
            "Iteration 79, loss = 0.09463892\n",
            "Iteration 80, loss = 0.09313340\n",
            "Iteration 81, loss = 0.09171704\n",
            "Iteration 82, loss = 0.09035228\n",
            "Iteration 83, loss = 0.08905310\n",
            "Iteration 84, loss = 0.08780999\n",
            "Iteration 85, loss = 0.08661539\n",
            "Iteration 86, loss = 0.08548438\n",
            "Iteration 87, loss = 0.08438231\n",
            "Iteration 88, loss = 0.08334720\n",
            "Iteration 89, loss = 0.08234027\n",
            "Iteration 90, loss = 0.08139349\n",
            "Iteration 91, loss = 0.08047360\n",
            "Iteration 92, loss = 0.07959561\n",
            "Iteration 93, loss = 0.07875877\n",
            "Iteration 94, loss = 0.07794671\n",
            "Iteration 95, loss = 0.07717852\n",
            "Iteration 96, loss = 0.07643449\n",
            "Iteration 97, loss = 0.07572175\n",
            "Iteration 98, loss = 0.07504126\n",
            "Iteration 99, loss = 0.07438147\n",
            "Iteration 100, loss = 0.07375285\n",
            "Iteration 101, loss = 0.07314918\n",
            "Iteration 102, loss = 0.07256640\n",
            "Iteration 103, loss = 0.07201108\n",
            "Iteration 104, loss = 0.07147786\n",
            "Iteration 105, loss = 0.07096384\n",
            "Iteration 106, loss = 0.07047334\n",
            "Iteration 107, loss = 0.07000382\n",
            "Iteration 108, loss = 0.06955138\n",
            "Iteration 109, loss = 0.06911771\n",
            "Iteration 110, loss = 0.06870360\n",
            "Iteration 111, loss = 0.06830594\n",
            "Iteration 112, loss = 0.06792311\n",
            "Iteration 113, loss = 0.06755650\n",
            "Iteration 114, loss = 0.06720603\n",
            "Iteration 115, loss = 0.06686983\n",
            "Iteration 116, loss = 0.06655007\n",
            "Iteration 117, loss = 0.06624291\n",
            "Iteration 118, loss = 0.06594805\n",
            "Iteration 119, loss = 0.06566507\n",
            "Iteration 120, loss = 0.06539339\n",
            "Iteration 121, loss = 0.06513230\n",
            "Iteration 122, loss = 0.06488110\n",
            "Iteration 123, loss = 0.06463951\n",
            "Iteration 124, loss = 0.06440701\n",
            "Iteration 125, loss = 0.06418380\n",
            "Iteration 126, loss = 0.06396952\n",
            "Iteration 127, loss = 0.06376456\n",
            "Iteration 128, loss = 0.06356975\n",
            "Iteration 129, loss = 0.06338811\n",
            "Iteration 130, loss = 0.06322144\n",
            "Iteration 131, loss = 0.06306879\n",
            "Iteration 132, loss = 0.06291344\n",
            "Iteration 133, loss = 0.06272718\n",
            "Iteration 134, loss = 0.06252502\n",
            "Iteration 135, loss = 0.06235913\n",
            "Iteration 136, loss = 0.06223492\n",
            "Iteration 137, loss = 0.06211153\n",
            "Iteration 138, loss = 0.06195804\n",
            "Iteration 139, loss = 0.06179684\n",
            "Iteration 140, loss = 0.06166441\n",
            "Iteration 141, loss = 0.06155572\n",
            "Iteration 142, loss = 0.06143925\n",
            "Iteration 143, loss = 0.06130352\n",
            "Iteration 144, loss = 0.06117108\n",
            "Iteration 145, loss = 0.06105993\n",
            "Iteration 146, loss = 0.06096061\n",
            "Iteration 147, loss = 0.06085470\n",
            "Iteration 148, loss = 0.06073824\n",
            "Iteration 149, loss = 0.06062533\n",
            "Iteration 150, loss = 0.06052385\n",
            "Iteration 151, loss = 0.06043091\n",
            "Iteration 152, loss = 0.06034065\n",
            "Iteration 153, loss = 0.06024621\n",
            "Iteration 154, loss = 0.06014742\n",
            "Iteration 155, loss = 0.06004902\n",
            "Iteration 156, loss = 0.05995695\n",
            "Iteration 157, loss = 0.05987203\n",
            "Iteration 158, loss = 0.05979125\n",
            "Iteration 159, loss = 0.05971122\n",
            "Iteration 160, loss = 0.05962978\n",
            "Iteration 161, loss = 0.05954698\n",
            "Training loss did not improve more than tol=0.000100 for 10 consecutive epochs. Stopping.\n"
          ]
        },
        {
          "output_type": "execute_result",
          "data": {
            "text/plain": [
              "MLPClassifier(hidden_layer_sizes=(6, 5), learning_rate_init=0.01,\n",
              "              random_state=5, verbose=True)"
            ],
            "text/html": [
              "<style>#sk-container-id-1 {color: black;background-color: white;}#sk-container-id-1 pre{padding: 0;}#sk-container-id-1 div.sk-toggleable {background-color: white;}#sk-container-id-1 label.sk-toggleable__label {cursor: pointer;display: block;width: 100%;margin-bottom: 0;padding: 0.3em;box-sizing: border-box;text-align: center;}#sk-container-id-1 label.sk-toggleable__label-arrow:before {content: \"▸\";float: left;margin-right: 0.25em;color: #696969;}#sk-container-id-1 label.sk-toggleable__label-arrow:hover:before {color: black;}#sk-container-id-1 div.sk-estimator:hover label.sk-toggleable__label-arrow:before {color: black;}#sk-container-id-1 div.sk-toggleable__content {max-height: 0;max-width: 0;overflow: hidden;text-align: left;background-color: #f0f8ff;}#sk-container-id-1 div.sk-toggleable__content pre {margin: 0.2em;color: black;border-radius: 0.25em;background-color: #f0f8ff;}#sk-container-id-1 input.sk-toggleable__control:checked~div.sk-toggleable__content {max-height: 200px;max-width: 100%;overflow: auto;}#sk-container-id-1 input.sk-toggleable__control:checked~label.sk-toggleable__label-arrow:before {content: \"▾\";}#sk-container-id-1 div.sk-estimator input.sk-toggleable__control:checked~label.sk-toggleable__label {background-color: #d4ebff;}#sk-container-id-1 div.sk-label input.sk-toggleable__control:checked~label.sk-toggleable__label {background-color: #d4ebff;}#sk-container-id-1 input.sk-hidden--visually {border: 0;clip: rect(1px 1px 1px 1px);clip: rect(1px, 1px, 1px, 1px);height: 1px;margin: -1px;overflow: hidden;padding: 0;position: absolute;width: 1px;}#sk-container-id-1 div.sk-estimator {font-family: monospace;background-color: #f0f8ff;border: 1px dotted black;border-radius: 0.25em;box-sizing: border-box;margin-bottom: 0.5em;}#sk-container-id-1 div.sk-estimator:hover {background-color: #d4ebff;}#sk-container-id-1 div.sk-parallel-item::after {content: \"\";width: 100%;border-bottom: 1px solid gray;flex-grow: 1;}#sk-container-id-1 div.sk-label:hover label.sk-toggleable__label {background-color: #d4ebff;}#sk-container-id-1 div.sk-serial::before {content: \"\";position: absolute;border-left: 1px solid gray;box-sizing: border-box;top: 0;bottom: 0;left: 50%;z-index: 0;}#sk-container-id-1 div.sk-serial {display: flex;flex-direction: column;align-items: center;background-color: white;padding-right: 0.2em;padding-left: 0.2em;position: relative;}#sk-container-id-1 div.sk-item {position: relative;z-index: 1;}#sk-container-id-1 div.sk-parallel {display: flex;align-items: stretch;justify-content: center;background-color: white;position: relative;}#sk-container-id-1 div.sk-item::before, #sk-container-id-1 div.sk-parallel-item::before {content: \"\";position: absolute;border-left: 1px solid gray;box-sizing: border-box;top: 0;bottom: 0;left: 50%;z-index: -1;}#sk-container-id-1 div.sk-parallel-item {display: flex;flex-direction: column;z-index: 1;position: relative;background-color: white;}#sk-container-id-1 div.sk-parallel-item:first-child::after {align-self: flex-end;width: 50%;}#sk-container-id-1 div.sk-parallel-item:last-child::after {align-self: flex-start;width: 50%;}#sk-container-id-1 div.sk-parallel-item:only-child::after {width: 0;}#sk-container-id-1 div.sk-dashed-wrapped {border: 1px dashed gray;margin: 0 0.4em 0.5em 0.4em;box-sizing: border-box;padding-bottom: 0.4em;background-color: white;}#sk-container-id-1 div.sk-label label {font-family: monospace;font-weight: bold;display: inline-block;line-height: 1.2em;}#sk-container-id-1 div.sk-label-container {text-align: center;}#sk-container-id-1 div.sk-container {/* jupyter's `normalize.less` sets `[hidden] { display: none; }` but bootstrap.min.css set `[hidden] { display: none !important; }` so we also need the `!important` here to be able to override the default hidden behavior on the sphinx rendered scikit-learn.org. See: https://github.com/scikit-learn/scikit-learn/issues/21755 */display: inline-block !important;position: relative;}#sk-container-id-1 div.sk-text-repr-fallback {display: none;}</style><div id=\"sk-container-id-1\" class=\"sk-top-container\"><div class=\"sk-text-repr-fallback\"><pre>MLPClassifier(hidden_layer_sizes=(6, 5), learning_rate_init=0.01,\n",
              "              random_state=5, verbose=True)</pre><b>In a Jupyter environment, please rerun this cell to show the HTML representation or trust the notebook. <br />On GitHub, the HTML representation is unable to render, please try loading this page with nbviewer.org.</b></div><div class=\"sk-container\" hidden><div class=\"sk-item\"><div class=\"sk-estimator sk-toggleable\"><input class=\"sk-toggleable__control sk-hidden--visually\" id=\"sk-estimator-id-1\" type=\"checkbox\" checked><label for=\"sk-estimator-id-1\" class=\"sk-toggleable__label sk-toggleable__label-arrow\">MLPClassifier</label><div class=\"sk-toggleable__content\"><pre>MLPClassifier(hidden_layer_sizes=(6, 5), learning_rate_init=0.01,\n",
              "              random_state=5, verbose=True)</pre></div></div></div></div></div>"
            ]
          },
          "metadata": {},
          "execution_count": 16
        }
      ]
    },
    {
      "cell_type": "code",
      "source": [
        "# Make prediction on test dataset\n",
        "ypred=clf.predict(X_test)\n",
        "\n",
        "# Import accuracy score\n",
        "from sklearn.metrics import accuracy_score\n",
        "\n",
        "# Calcuate accuracy\n",
        "accuracy_score(y_test,ypred)"
      ],
      "metadata": {
        "id": "NQUqAgLRdlN1",
        "colab": {
          "base_uri": "https://localhost:8080/"
        },
        "outputId": "c059e2e9-407f-4043-ef20-396115c67a6e"
      },
      "execution_count": 17,
      "outputs": [
        {
          "output_type": "execute_result",
          "data": {
            "text/plain": [
              "1.0"
            ]
          },
          "metadata": {},
          "execution_count": 17
        }
      ]
    },
    {
      "cell_type": "code",
      "source": [
        "from sklearn.metrics import confusion_matrix"
      ],
      "metadata": {
        "id": "OV19rJY6t5pq"
      },
      "execution_count": 18,
      "outputs": []
    },
    {
      "cell_type": "code",
      "source": [
        "cm=confusion_matrix(y_test,ypred)"
      ],
      "metadata": {
        "id": "C2YKKaTht5tb"
      },
      "execution_count": 19,
      "outputs": []
    },
    {
      "cell_type": "code",
      "source": [
        "import seaborn as sns\n",
        "sns.heatmap(cm,annot=True,fmt='g')"
      ],
      "metadata": {
        "colab": {
          "base_uri": "https://localhost:8080/",
          "height": 447
        },
        "id": "ttR9uWY5usKK",
        "outputId": "15f3fc31-2b86-4270-9e26-50bcbafb4603"
      },
      "execution_count": 20,
      "outputs": [
        {
          "output_type": "execute_result",
          "data": {
            "text/plain": [
              "<Axes: >"
            ]
          },
          "metadata": {},
          "execution_count": 20
        },
        {
          "output_type": "display_data",
          "data": {
            "text/plain": [
              "<Figure size 640x480 with 2 Axes>"
            ],
            "image/png": "[encoded data removed]"
          },
          "metadata": {}
        }
      ]
    },
    {
      "cell_type": "markdown",
      "source": [
        "# ***LBFGS***"
      ],
      "metadata": {
        "id": "3Et5AIHN-sxM"
      }
    },
    {
      "cell_type": "code",
      "source": [
        "clf = MLPClassifier(hidden_layer_sizes=(6,5),\n",
        "                    solver='lbfgs',\n",
        "                    random_state=5,\n",
        "                    verbose=True,\n",
        "                    learning_rate_init=0.01)\n",
        "\n",
        "# Fit data onto the model\n",
        "clf.fit(X_train,y_train)"
      ],
      "metadata": {
        "colab": {
          "base_uri": "https://localhost:8080/",
          "height": 92
        },
        "id": "yR6Ow2OY-ruD",
        "outputId": "9be4db39-fc97-42aa-d3bc-122772b8e9b3"
      },
      "execution_count": 22,
      "outputs": [
        {
          "output_type": "execute_result",
          "data": {
            "text/plain": [
              "MLPClassifier(hidden_layer_sizes=(6, 5), learning_rate_init=0.01,\n",
              "              random_state=5, solver='lbfgs', verbose=True)"
            ],
            "text/html": [
              "<style>#sk-container-id-3 {color: black;background-color: white;}#sk-container-id-3 pre{padding: 0;}#sk-container-id-3 div.sk-toggleable {background-color: white;}#sk-container-id-3 label.sk-toggleable__label {cursor: pointer;display: block;width: 100%;margin-bottom: 0;padding: 0.3em;box-sizing: border-box;text-align: center;}#sk-container-id-3 label.sk-toggleable__label-arrow:before {content: \"▸\";float: left;margin-right: 0.25em;color: #696969;}#sk-container-id-3 label.sk-toggleable__label-arrow:hover:before {color: black;}#sk-container-id-3 div.sk-estimator:hover label.sk-toggleable__label-arrow:before {color: black;}#sk-container-id-3 div.sk-toggleable__content {max-height: 0;max-width: 0;overflow: hidden;text-align: left;background-color: #f0f8ff;}#sk-container-id-3 div.sk-toggleable__content pre {margin: 0.2em;color: black;border-radius: 0.25em;background-color: #f0f8ff;}#sk-container-id-3 input.sk-toggleable__control:checked~div.sk-toggleable__content {max-height: 200px;max-width: 100%;overflow: auto;}#sk-container-id-3 input.sk-toggleable__control:checked~label.sk-toggleable__label-arrow:before {content: \"▾\";}#sk-container-id-3 div.sk-estimator input.sk-toggleable__control:checked~label.sk-toggleable__label {background-color: #d4ebff;}#sk-container-id-3 div.sk-label input.sk-toggleable__control:checked~label.sk-toggleable__label {background-color: #d4ebff;}#sk-container-id-3 input.sk-hidden--visually {border: 0;clip: rect(1px 1px 1px 1px);clip: rect(1px, 1px, 1px, 1px);height: 1px;margin: -1px;overflow: hidden;padding: 0;position: absolute;width: 1px;}#sk-container-id-3 div.sk-estimator {font-family: monospace;background-color: #f0f8ff;border: 1px dotted black;border-radius: 0.25em;box-sizing: border-box;margin-bottom: 0.5em;}#sk-container-id-3 div.sk-estimator:hover {background-color: #d4ebff;}#sk-container-id-3 div.sk-parallel-item::after {content: \"\";width: 100%;border-bottom: 1px solid gray;flex-grow: 1;}#sk-container-id-3 div.sk-label:hover label.sk-toggleable__label {background-color: #d4ebff;}#sk-container-id-3 div.sk-serial::before {content: \"\";position: absolute;border-left: 1px solid gray;box-sizing: border-box;top: 0;bottom: 0;left: 50%;z-index: 0;}#sk-container-id-3 div.sk-serial {display: flex;flex-direction: column;align-items: center;background-color: white;padding-right: 0.2em;padding-left: 0.2em;position: relative;}#sk-container-id-3 div.sk-item {position: relative;z-index: 1;}#sk-container-id-3 div.sk-parallel {display: flex;align-items: stretch;justify-content: center;background-color: white;position: relative;}#sk-container-id-3 div.sk-item::before, #sk-container-id-3 div.sk-parallel-item::before {content: \"\";position: absolute;border-left: 1px solid gray;box-sizing: border-box;top: 0;bottom: 0;left: 50%;z-index: -1;}#sk-container-id-3 div.sk-parallel-item {display: flex;flex-direction: column;z-index: 1;position: relative;background-color: white;}#sk-container-id-3 div.sk-parallel-item:first-child::after {align-self: flex-end;width: 50%;}#sk-container-id-3 div.sk-parallel-item:last-child::after {align-self: flex-start;width: 50%;}#sk-container-id-3 div.sk-parallel-item:only-child::after {width: 0;}#sk-container-id-3 div.sk-dashed-wrapped {border: 1px dashed gray;margin: 0 0.4em 0.5em 0.4em;box-sizing: border-box;padding-bottom: 0.4em;background-color: white;}#sk-container-id-3 div.sk-label label {font-family: monospace;font-weight: bold;display: inline-block;line-height: 1.2em;}#sk-container-id-3 div.sk-label-container {text-align: center;}#sk-container-id-3 div.sk-container {/* jupyter's `normalize.less` sets `[hidden] { display: none; }` but bootstrap.min.css set `[hidden] { display: none !important; }` so we also need the `!important` here to be able to override the default hidden behavior on the sphinx rendered scikit-learn.org. See: https://github.com/scikit-learn/scikit-learn/issues/21755 */display: inline-block !important;position: relative;}#sk-container-id-3 div.sk-text-repr-fallback {display: none;}</style><div id=\"sk-container-id-3\" class=\"sk-top-container\"><div class=\"sk-text-repr-fallback\"><pre>MLPClassifier(hidden_layer_sizes=(6, 5), learning_rate_init=0.01,\n",
              "              random_state=5, solver=&#x27;lbfgs&#x27;, verbose=True)</pre><b>In a Jupyter environment, please rerun this cell to show the HTML representation or trust the notebook. <br />On GitHub, the HTML representation is unable to render, please try loading this page with nbviewer.org.</b></div><div class=\"sk-container\" hidden><div class=\"sk-item\"><div class=\"sk-estimator sk-toggleable\"><input class=\"sk-toggleable__control sk-hidden--visually\" id=\"sk-estimator-id-3\" type=\"checkbox\" checked><label for=\"sk-estimator-id-3\" class=\"sk-toggleable__label sk-toggleable__label-arrow\">MLPClassifier</label><div class=\"sk-toggleable__content\"><pre>MLPClassifier(hidden_layer_sizes=(6, 5), learning_rate_init=0.01,\n",
              "              random_state=5, solver=&#x27;lbfgs&#x27;, verbose=True)</pre></div></div></div></div></div>"
            ]
          },
          "metadata": {},
          "execution_count": 22
        }
      ]
    },
    {
      "cell_type": "code",
      "source": [
        "# Make prediction on test dataset\n",
        "ypred=clf.predict(X_test)\n",
        "\n",
        "# Import accuracy score\n",
        "from sklearn.metrics import accuracy_score\n",
        "\n",
        "# Calcuate accuracy\n",
        "accuracy_score(y_test,ypred)"
      ],
      "metadata": {
        "colab": {
          "base_uri": "https://localhost:8080/"
        },
        "id": "cCecmYJg-rwr",
        "outputId": "c25484e7-4663-4b04-913d-cd1d8ec0796e"
      },
      "execution_count": 23,
      "outputs": [
        {
          "output_type": "execute_result",
          "data": {
            "text/plain": [
              "1.0"
            ]
          },
          "metadata": {},
          "execution_count": 23
        }
      ]
    },
    {
      "cell_type": "markdown",
      "source": [
        "# ***SGD***"
      ],
      "metadata": {
        "id": "lKXEzy3k_P-S"
      }
    },
    {
      "cell_type": "code",
      "source": [
        "clf = MLPClassifier(hidden_layer_sizes=(6,5),\n",
        "                    solver='sgd',\n",
        "                    random_state=5,\n",
        "                    verbose=True,\n",
        "                    learning_rate_init=0.01)\n",
        "\n",
        "# Fit data onto the model\n",
        "clf.fit(X_train,y_train)"
      ],
      "metadata": {
        "colab": {
          "base_uri": "https://localhost:8080/",
          "height": 1000
        },
        "id": "hOUHwcUe-r0Z",
        "outputId": "c6ff5b6d-90d1-42f0-b88e-61f6757d333c"
      },
      "execution_count": 24,
      "outputs": [
        {
          "output_type": "stream",
          "name": "stdout",
          "text": [
            "Iteration 1, loss = 1.35506854\n",
            "Iteration 2, loss = 1.32175954\n",
            "Iteration 3, loss = 1.28014103\n",
            "Iteration 4, loss = 1.23288493\n",
            "Iteration 5, loss = 1.18171570\n",
            "Iteration 6, loss = 1.13024273\n",
            "Iteration 7, loss = 1.09442391\n",
            "Iteration 8, loss = 1.06406050\n",
            "Iteration 9, loss = 1.03174820\n",
            "Iteration 10, loss = 0.99847893\n",
            "Iteration 11, loss = 0.96542915\n",
            "Iteration 12, loss = 0.93402440\n",
            "Iteration 13, loss = 0.90574225\n",
            "Iteration 14, loss = 0.88190410\n",
            "Iteration 15, loss = 0.86053642\n",
            "Iteration 16, loss = 0.84086628\n",
            "Iteration 17, loss = 0.82116353\n",
            "Iteration 18, loss = 0.79961870\n",
            "Iteration 19, loss = 0.77560950\n",
            "Iteration 20, loss = 0.74915414\n",
            "Iteration 21, loss = 0.72074156\n",
            "Iteration 22, loss = 0.69082168\n",
            "Iteration 23, loss = 0.66027214\n",
            "Iteration 24, loss = 0.62984633\n",
            "Iteration 25, loss = 0.60010189\n",
            "Iteration 26, loss = 0.57115884\n",
            "Iteration 27, loss = 0.54299369\n",
            "Iteration 28, loss = 0.51549613\n",
            "Iteration 29, loss = 0.48878348\n",
            "Iteration 30, loss = 0.46315430\n",
            "Iteration 31, loss = 0.43889200\n",
            "Iteration 32, loss = 0.41643477\n",
            "Iteration 33, loss = 0.39593148\n",
            "Iteration 34, loss = 0.37723193\n",
            "Iteration 35, loss = 0.36012574\n",
            "Iteration 36, loss = 0.34438554\n",
            "Iteration 37, loss = 0.32977356\n",
            "Iteration 38, loss = 0.31621201\n",
            "Iteration 39, loss = 0.30358893\n",
            "Iteration 40, loss = 0.29197857\n",
            "Iteration 41, loss = 0.28115368\n",
            "Iteration 42, loss = 0.27109698\n",
            "Iteration 43, loss = 0.26167273\n",
            "Iteration 44, loss = 0.25280462\n",
            "Iteration 45, loss = 0.24446558\n",
            "Iteration 46, loss = 0.23657387\n",
            "Iteration 47, loss = 0.22912963\n",
            "Iteration 48, loss = 0.22205979\n",
            "Iteration 49, loss = 0.21539608\n",
            "Iteration 50, loss = 0.20907961\n",
            "Iteration 51, loss = 0.20308054\n",
            "Iteration 52, loss = 0.19737483\n",
            "Iteration 53, loss = 0.19194520\n",
            "Iteration 54, loss = 0.18678182\n",
            "Iteration 55, loss = 0.18187276\n",
            "Iteration 56, loss = 0.17720601\n",
            "Iteration 57, loss = 0.17277042\n",
            "Iteration 58, loss = 0.16855552\n",
            "Iteration 59, loss = 0.16455149\n",
            "Iteration 60, loss = 0.16074906\n",
            "Iteration 61, loss = 0.15713935\n",
            "Iteration 62, loss = 0.15371377\n",
            "Iteration 63, loss = 0.15046395\n",
            "Iteration 64, loss = 0.14738412\n",
            "Iteration 65, loss = 0.14446444\n",
            "Iteration 66, loss = 0.14169680\n",
            "Iteration 67, loss = 0.13907268\n",
            "Iteration 68, loss = 0.13658456\n",
            "Iteration 69, loss = 0.13422488\n",
            "Iteration 70, loss = 0.13198760\n",
            "Iteration 71, loss = 0.12986486\n",
            "Iteration 72, loss = 0.12784992\n",
            "Iteration 73, loss = 0.12593646\n",
            "Iteration 74, loss = 0.12411901\n",
            "Iteration 75, loss = 0.12239211\n",
            "Iteration 76, loss = 0.12074972\n",
            "Iteration 77, loss = 0.11918670\n",
            "Iteration 78, loss = 0.11769901\n",
            "Iteration 79, loss = 0.11628219\n",
            "Iteration 80, loss = 0.11493148\n",
            "Iteration 81, loss = 0.11364279\n",
            "Iteration 82, loss = 0.11241249\n",
            "Iteration 83, loss = 0.11123708\n",
            "Iteration 84, loss = 0.11011336\n",
            "Iteration 85, loss = 0.10903829\n",
            "Iteration 86, loss = 0.10800905\n",
            "Iteration 87, loss = 0.10702300\n",
            "Iteration 88, loss = 0.10607766\n",
            "Iteration 89, loss = 0.10517071\n",
            "Iteration 90, loss = 0.10430073\n",
            "Iteration 91, loss = 0.10346480\n",
            "Iteration 92, loss = 0.10266102\n",
            "Iteration 93, loss = 0.10188762\n",
            "Iteration 94, loss = 0.10114296\n",
            "Iteration 95, loss = 0.10042551\n",
            "Iteration 96, loss = 0.09973386\n",
            "Iteration 97, loss = 0.09906710\n",
            "Iteration 98, loss = 0.09842362\n",
            "Iteration 99, loss = 0.09780221\n",
            "Iteration 100, loss = 0.09720175\n",
            "Iteration 101, loss = 0.09662121\n",
            "Iteration 102, loss = 0.09605960\n",
            "Iteration 103, loss = 0.09551601\n",
            "Iteration 104, loss = 0.09498959\n",
            "Iteration 105, loss = 0.09447954\n",
            "Iteration 106, loss = 0.09398508\n",
            "Iteration 107, loss = 0.09350553\n",
            "Iteration 108, loss = 0.09304034\n",
            "Iteration 109, loss = 0.09258862\n",
            "Iteration 110, loss = 0.09214996\n",
            "Iteration 111, loss = 0.09172365\n",
            "Iteration 112, loss = 0.09130926\n",
            "Iteration 113, loss = 0.09090631\n",
            "Iteration 114, loss = 0.09051431\n",
            "Iteration 115, loss = 0.09013290\n",
            "Iteration 116, loss = 0.08976138\n",
            "Iteration 117, loss = 0.08939960\n",
            "Iteration 118, loss = 0.08904711\n",
            "Iteration 119, loss = 0.08870356\n",
            "Iteration 120, loss = 0.08836859\n",
            "Iteration 121, loss = 0.08804190\n",
            "Iteration 122, loss = 0.08772321\n",
            "Iteration 123, loss = 0.08741222\n",
            "Iteration 124, loss = 0.08710851\n",
            "Iteration 125, loss = 0.08681201\n",
            "Iteration 126, loss = 0.08652238\n",
            "Iteration 127, loss = 0.08623941\n",
            "Iteration 128, loss = 0.08596285\n",
            "Iteration 129, loss = 0.08569251\n",
            "Iteration 130, loss = 0.08542823\n",
            "Iteration 131, loss = 0.08516963\n",
            "Iteration 132, loss = 0.08491670\n",
            "Iteration 133, loss = 0.08466919\n",
            "Iteration 134, loss = 0.08442695\n",
            "Iteration 135, loss = 0.08418981\n",
            "Iteration 136, loss = 0.08395763\n",
            "Iteration 137, loss = 0.08373036\n",
            "Iteration 138, loss = 0.08350775\n",
            "Iteration 139, loss = 0.08328964\n",
            "Iteration 140, loss = 0.08307591\n",
            "Iteration 141, loss = 0.08286643\n",
            "Iteration 142, loss = 0.08266106\n",
            "Iteration 143, loss = 0.08245970\n",
            "Iteration 144, loss = 0.08226222\n",
            "Iteration 145, loss = 0.08206851\n",
            "Iteration 146, loss = 0.08187848\n",
            "Iteration 147, loss = 0.08169202\n",
            "Iteration 148, loss = 0.08150903\n",
            "Iteration 149, loss = 0.08132942\n",
            "Iteration 150, loss = 0.08115309\n",
            "Iteration 151, loss = 0.08097996\n",
            "Iteration 152, loss = 0.08080995\n",
            "Iteration 153, loss = 0.08064298\n",
            "Iteration 154, loss = 0.08047896\n",
            "Iteration 155, loss = 0.08031782\n",
            "Iteration 156, loss = 0.08015949\n",
            "Iteration 157, loss = 0.08000389\n",
            "Iteration 158, loss = 0.07985096\n",
            "Iteration 159, loss = 0.07970064\n",
            "Iteration 160, loss = 0.07955285\n",
            "Iteration 161, loss = 0.07940754\n",
            "Iteration 162, loss = 0.07926465\n",
            "Iteration 163, loss = 0.07912411\n",
            "Iteration 164, loss = 0.07898588\n",
            "Iteration 165, loss = 0.07884990\n",
            "Iteration 166, loss = 0.07871611\n",
            "Iteration 167, loss = 0.07858446\n",
            "Iteration 168, loss = 0.07845491\n",
            "Iteration 169, loss = 0.07832741\n",
            "Iteration 170, loss = 0.07820191\n",
            "Iteration 171, loss = 0.07807836\n",
            "Iteration 172, loss = 0.07795673\n",
            "Iteration 173, loss = 0.07783696\n",
            "Iteration 174, loss = 0.07771902\n",
            "Iteration 175, loss = 0.07760286\n",
            "Iteration 176, loss = 0.07748846\n",
            "Iteration 177, loss = 0.07737576\n",
            "Iteration 178, loss = 0.07726474\n",
            "Iteration 179, loss = 0.07715535\n",
            "Iteration 180, loss = 0.07704756\n",
            "Iteration 181, loss = 0.07694134\n",
            "Iteration 182, loss = 0.07683666\n",
            "Iteration 183, loss = 0.07673348\n",
            "Iteration 184, loss = 0.07663177\n",
            "Iteration 185, loss = 0.07653150\n",
            "Iteration 186, loss = 0.07643264\n",
            "Iteration 187, loss = 0.07633516\n",
            "Iteration 188, loss = 0.07623903\n",
            "Iteration 189, loss = 0.07614423\n",
            "Iteration 190, loss = 0.07605073\n",
            "Iteration 191, loss = 0.07595851\n",
            "Iteration 192, loss = 0.07586753\n",
            "Iteration 193, loss = 0.07577777\n",
            "Iteration 194, loss = 0.07568921\n",
            "Iteration 195, loss = 0.07560182\n",
            "Iteration 196, loss = 0.07551559\n",
            "Training loss did not improve more than tol=0.000100 for 10 consecutive epochs. Stopping.\n"
          ]
        },
        {
          "output_type": "execute_result",
          "data": {
            "text/plain": [
              "MLPClassifier(hidden_layer_sizes=(6, 5), learning_rate_init=0.01,\n",
              "              random_state=5, solver='sgd', verbose=True)"
            ],
            "text/html": [
              "<style>#sk-container-id-4 {color: black;background-color: white;}#sk-container-id-4 pre{padding: 0;}#sk-container-id-4 div.sk-toggleable {background-color: white;}#sk-container-id-4 label.sk-toggleable__label {cursor: pointer;display: block;width: 100%;margin-bottom: 0;padding: 0.3em;box-sizing: border-box;text-align: center;}#sk-container-id-4 label.sk-toggleable__label-arrow:before {content: \"▸\";float: left;margin-right: 0.25em;color: #696969;}#sk-container-id-4 label.sk-toggleable__label-arrow:hover:before {color: black;}#sk-container-id-4 div.sk-estimator:hover label.sk-toggleable__label-arrow:before {color: black;}#sk-container-id-4 div.sk-toggleable__content {max-height: 0;max-width: 0;overflow: hidden;text-align: left;background-color: #f0f8ff;}#sk-container-id-4 div.sk-toggleable__content pre {margin: 0.2em;color: black;border-radius: 0.25em;background-color: #f0f8ff;}#sk-container-id-4 input.sk-toggleable__control:checked~div.sk-toggleable__content {max-height: 200px;max-width: 100%;overflow: auto;}#sk-container-id-4 input.sk-toggleable__control:checked~label.sk-toggleable__label-arrow:before {content: \"▾\";}#sk-container-id-4 div.sk-estimator input.sk-toggleable__control:checked~label.sk-toggleable__label {background-color: #d4ebff;}#sk-container-id-4 div.sk-label input.sk-toggleable__control:checked~label.sk-toggleable__label {background-color: #d4ebff;}#sk-container-id-4 input.sk-hidden--visually {border: 0;clip: rect(1px 1px 1px 1px);clip: rect(1px, 1px, 1px, 1px);height: 1px;margin: -1px;overflow: hidden;padding: 0;position: absolute;width: 1px;}#sk-container-id-4 div.sk-estimator {font-family: monospace;background-color: #f0f8ff;border: 1px dotted black;border-radius: 0.25em;box-sizing: border-box;margin-bottom: 0.5em;}#sk-container-id-4 div.sk-estimator:hover {background-color: #d4ebff;}#sk-container-id-4 div.sk-parallel-item::after {content: \"\";width: 100%;border-bottom: 1px solid gray;flex-grow: 1;}#sk-container-id-4 div.sk-label:hover label.sk-toggleable__label {background-color: #d4ebff;}#sk-container-id-4 div.sk-serial::before {content: \"\";position: absolute;border-left: 1px solid gray;box-sizing: border-box;top: 0;bottom: 0;left: 50%;z-index: 0;}#sk-container-id-4 div.sk-serial {display: flex;flex-direction: column;align-items: center;background-color: white;padding-right: 0.2em;padding-left: 0.2em;position: relative;}#sk-container-id-4 div.sk-item {position: relative;z-index: 1;}#sk-container-id-4 div.sk-parallel {display: flex;align-items: stretch;justify-content: center;background-color: white;position: relative;}#sk-container-id-4 div.sk-item::before, #sk-container-id-4 div.sk-parallel-item::before {content: \"\";position: absolute;border-left: 1px solid gray;box-sizing: border-box;top: 0;bottom: 0;left: 50%;z-index: -1;}#sk-container-id-4 div.sk-parallel-item {display: flex;flex-direction: column;z-index: 1;position: relative;background-color: white;}#sk-container-id-4 div.sk-parallel-item:first-child::after {align-self: flex-end;width: 50%;}#sk-container-id-4 div.sk-parallel-item:last-child::after {align-self: flex-start;width: 50%;}#sk-container-id-4 div.sk-parallel-item:only-child::after {width: 0;}#sk-container-id-4 div.sk-dashed-wrapped {border: 1px dashed gray;margin: 0 0.4em 0.5em 0.4em;box-sizing: border-box;padding-bottom: 0.4em;background-color: white;}#sk-container-id-4 div.sk-label label {font-family: monospace;font-weight: bold;display: inline-block;line-height: 1.2em;}#sk-container-id-4 div.sk-label-container {text-align: center;}#sk-container-id-4 div.sk-container {/* jupyter's `normalize.less` sets `[hidden] { display: none; }` but bootstrap.min.css set `[hidden] { display: none !important; }` so we also need the `!important` here to be able to override the default hidden behavior on the sphinx rendered scikit-learn.org. See: https://github.com/scikit-learn/scikit-learn/issues/21755 */display: inline-block !important;position: relative;}#sk-container-id-4 div.sk-text-repr-fallback {display: none;}</style><div id=\"sk-container-id-4\" class=\"sk-top-container\"><div class=\"sk-text-repr-fallback\"><pre>MLPClassifier(hidden_layer_sizes=(6, 5), learning_rate_init=0.01,\n",
              "              random_state=5, solver=&#x27;sgd&#x27;, verbose=True)</pre><b>In a Jupyter environment, please rerun this cell to show the HTML representation or trust the notebook. <br />On GitHub, the HTML representation is unable to render, please try loading this page with nbviewer.org.</b></div><div class=\"sk-container\" hidden><div class=\"sk-item\"><div class=\"sk-estimator sk-toggleable\"><input class=\"sk-toggleable__control sk-hidden--visually\" id=\"sk-estimator-id-4\" type=\"checkbox\" checked><label for=\"sk-estimator-id-4\" class=\"sk-toggleable__label sk-toggleable__label-arrow\">MLPClassifier</label><div class=\"sk-toggleable__content\"><pre>MLPClassifier(hidden_layer_sizes=(6, 5), learning_rate_init=0.01,\n",
              "              random_state=5, solver=&#x27;sgd&#x27;, verbose=True)</pre></div></div></div></div></div>"
            ]
          },
          "metadata": {},
          "execution_count": 24
        }
      ]
    },
    {
      "cell_type": "code",
      "source": [
        "# Make prediction on test dataset\n",
        "ypred=clf.predict(X_test)\n",
        "\n",
        "# Import accuracy score\n",
        "from sklearn.metrics import accuracy_score\n",
        "\n",
        "# Calcuate accuracy\n",
        "accuracy_score(y_test,ypred)"
      ],
      "metadata": {
        "colab": {
          "base_uri": "https://localhost:8080/"
        },
        "id": "76ZrLVHh-r2M",
        "outputId": "df1dbc4a-e9b5-4238-e28b-de04774cdff9"
      },
      "execution_count": 30,
      "outputs": [
        {
          "output_type": "execute_result",
          "data": {
            "text/plain": [
              "1.0"
            ]
          },
          "metadata": {},
          "execution_count": 30
        }
      ]
    },
    {
      "cell_type": "code",
      "source": [
        "clf = MLPClassifier(hidden_layer_sizes=(6,5),\n",
        "                    solver='sgd',\n",
        "                    activation='tanh',\n",
        "                    random_state=5,\n",
        "                    verbose=True,\n",
        "                    learning_rate_init=0.01)\n",
        "\n",
        "# Fit data onto the model\n",
        "clf.fit(X_train,y_train)\n",
        "# Make prediction on test dataset\n",
        "ypred=clf.predict(X_test)\n",
        "\n",
        "# Import accuracy score\n",
        "from sklearn.metrics import accuracy_score\n",
        "\n",
        "# Calcuate accuracy\n",
        "accuracy_score(y_test,ypred)"
      ],
      "metadata": {
        "colab": {
          "base_uri": "https://localhost:8080/"
        },
        "id": "xqbMtHdM-r6s",
        "outputId": "e9f3b125-f007-47f4-c770-2bb01d83ae1f"
      },
      "execution_count": 33,
      "outputs": [
        {
          "output_type": "stream",
          "name": "stdout",
          "text": [
            "Iteration 1, loss = 1.16913845\n",
            "Iteration 2, loss = 1.15687429\n",
            "Iteration 3, loss = 1.13932047\n",
            "Iteration 4, loss = 1.11684776\n",
            "Iteration 5, loss = 1.08992681\n",
            "Iteration 6, loss = 1.05973058\n",
            "Iteration 7, loss = 1.02855115\n",
            "Iteration 8, loss = 0.99868111\n",
            "Iteration 9, loss = 0.97072882\n",
            "Iteration 10, loss = 0.94468577\n",
            "Iteration 11, loss = 0.92146962\n",
            "Iteration 12, loss = 0.90167821\n",
            "Iteration 13, loss = 0.88457039\n",
            "Iteration 14, loss = 0.86914806\n",
            "Iteration 15, loss = 0.85493911\n",
            "Iteration 16, loss = 0.84168411\n",
            "Iteration 17, loss = 0.82901413\n",
            "Iteration 18, loss = 0.81650086\n",
            "Iteration 19, loss = 0.80378816\n",
            "Iteration 20, loss = 0.79063043\n",
            "Iteration 21, loss = 0.77689242\n",
            "Iteration 22, loss = 0.76257917\n",
            "Iteration 23, loss = 0.74786468\n",
            "Iteration 24, loss = 0.73305009\n",
            "Iteration 25, loss = 0.71846037\n",
            "Iteration 26, loss = 0.70435020\n",
            "Iteration 27, loss = 0.69085367\n",
            "Iteration 28, loss = 0.67797841\n",
            "Iteration 29, loss = 0.66564179\n",
            "Iteration 30, loss = 0.65372565\n",
            "Iteration 31, loss = 0.64211561\n",
            "Iteration 32, loss = 0.63071502\n",
            "Iteration 33, loss = 0.61944666\n",
            "Iteration 34, loss = 0.60825357\n",
            "Iteration 35, loss = 0.59709957\n",
            "Iteration 36, loss = 0.58596740\n",
            "Iteration 37, loss = 0.57485473\n",
            "Iteration 38, loss = 0.56376982\n",
            "Iteration 39, loss = 0.55272783\n",
            "Iteration 40, loss = 0.54174842\n",
            "Iteration 41, loss = 0.53085455\n",
            "Iteration 42, loss = 0.52007261\n",
            "Iteration 43, loss = 0.50943364\n",
            "Iteration 44, loss = 0.49897513\n",
            "Iteration 45, loss = 0.48874230\n",
            "Iteration 46, loss = 0.47878734\n",
            "Iteration 47, loss = 0.46916498\n",
            "Iteration 48, loss = 0.45992392\n",
            "Iteration 49, loss = 0.45109577\n",
            "Iteration 50, loss = 0.44268550\n",
            "Iteration 51, loss = 0.43466836\n",
            "Iteration 52, loss = 0.42699552\n",
            "Iteration 53, loss = 0.41960644\n",
            "Iteration 54, loss = 0.41244263\n",
            "Iteration 55, loss = 0.40545730\n",
            "Iteration 56, loss = 0.39861883\n",
            "Iteration 57, loss = 0.39190909\n",
            "Iteration 58, loss = 0.38531945\n",
            "Iteration 59, loss = 0.37884721\n",
            "Iteration 60, loss = 0.37249330\n",
            "Iteration 61, loss = 0.36626124\n",
            "Iteration 62, loss = 0.36015660\n",
            "Iteration 63, loss = 0.35418636\n",
            "Iteration 64, loss = 0.34835800\n",
            "Iteration 65, loss = 0.34267824\n",
            "Iteration 66, loss = 0.33715201\n",
            "Iteration 67, loss = 0.33178162\n",
            "Iteration 68, loss = 0.32656647\n",
            "Iteration 69, loss = 0.32150329\n",
            "Iteration 70, loss = 0.31658668\n",
            "Iteration 71, loss = 0.31180992\n",
            "Iteration 72, loss = 0.30716570\n",
            "Iteration 73, loss = 0.30264684\n",
            "Iteration 74, loss = 0.29824669\n",
            "Iteration 75, loss = 0.29395942\n",
            "Iteration 76, loss = 0.28978006\n",
            "Iteration 77, loss = 0.28570448\n",
            "Iteration 78, loss = 0.28172920\n",
            "Iteration 79, loss = 0.27785129\n",
            "Iteration 80, loss = 0.27406818\n",
            "Iteration 81, loss = 0.27037752\n",
            "Iteration 82, loss = 0.26677714\n",
            "Iteration 83, loss = 0.26326494\n",
            "Iteration 84, loss = 0.25983883\n",
            "Iteration 85, loss = 0.25649679\n",
            "Iteration 86, loss = 0.25323675\n",
            "Iteration 87, loss = 0.25005666\n",
            "Iteration 88, loss = 0.24695447\n",
            "Iteration 89, loss = 0.24392810\n",
            "Iteration 90, loss = 0.24097548\n",
            "Iteration 91, loss = 0.23809454\n",
            "Iteration 92, loss = 0.23528321\n",
            "Iteration 93, loss = 0.23253944\n",
            "Iteration 94, loss = 0.22986120\n",
            "Iteration 95, loss = 0.22724652\n",
            "Iteration 96, loss = 0.22469345\n",
            "Iteration 97, loss = 0.22220012\n",
            "Iteration 98, loss = 0.21976472\n",
            "Iteration 99, loss = 0.21738548\n",
            "Iteration 100, loss = 0.21506072\n",
            "Iteration 101, loss = 0.21278884\n",
            "Iteration 102, loss = 0.21056827\n",
            "Iteration 103, loss = 0.20839754\n",
            "Iteration 104, loss = 0.20627520\n",
            "Iteration 105, loss = 0.20419988\n",
            "Iteration 106, loss = 0.20217024\n",
            "Iteration 107, loss = 0.20018500\n",
            "Iteration 108, loss = 0.19824291\n",
            "Iteration 109, loss = 0.19634274\n",
            "Iteration 110, loss = 0.19448333\n",
            "Iteration 111, loss = 0.19266353\n",
            "Iteration 112, loss = 0.19088223\n",
            "Iteration 113, loss = 0.18913835\n",
            "Iteration 114, loss = 0.18743084\n",
            "Iteration 115, loss = 0.18575869\n",
            "Iteration 116, loss = 0.18412090\n",
            "Iteration 117, loss = 0.18251653\n",
            "Iteration 118, loss = 0.18094464\n",
            "Iteration 119, loss = 0.17940436\n",
            "Iteration 120, loss = 0.17789481\n",
            "Iteration 121, loss = 0.17641517\n",
            "Iteration 122, loss = 0.17496462\n",
            "Iteration 123, loss = 0.17354238\n",
            "Iteration 124, loss = 0.17214772\n",
            "Iteration 125, loss = 0.17077990\n",
            "Iteration 126, loss = 0.16943821\n",
            "Iteration 127, loss = 0.16812199\n",
            "Iteration 128, loss = 0.16683058\n",
            "Iteration 129, loss = 0.16556335\n",
            "Iteration 130, loss = 0.16431968\n",
            "Iteration 131, loss = 0.16309898\n",
            "Iteration 132, loss = 0.16190067\n",
            "Iteration 133, loss = 0.16072421\n",
            "Iteration 134, loss = 0.15956906\n",
            "Iteration 135, loss = 0.15843469\n",
            "Iteration 136, loss = 0.15732061\n",
            "Iteration 137, loss = 0.15622632\n",
            "Iteration 138, loss = 0.15515135\n",
            "Iteration 139, loss = 0.15409524\n",
            "Iteration 140, loss = 0.15305756\n",
            "Iteration 141, loss = 0.15203786\n",
            "Iteration 142, loss = 0.15103574\n",
            "Iteration 143, loss = 0.15005080\n",
            "Iteration 144, loss = 0.14908263\n",
            "Iteration 145, loss = 0.14813086\n",
            "Iteration 146, loss = 0.14719512\n",
            "Iteration 147, loss = 0.14627505\n",
            "Iteration 148, loss = 0.14537031\n",
            "Iteration 149, loss = 0.14448057\n",
            "Iteration 150, loss = 0.14360549\n",
            "Iteration 151, loss = 0.14274476\n",
            "Iteration 152, loss = 0.14189806\n",
            "Iteration 153, loss = 0.14106511\n",
            "Iteration 154, loss = 0.14024561\n",
            "Iteration 155, loss = 0.13943927\n",
            "Iteration 156, loss = 0.13864583\n",
            "Iteration 157, loss = 0.13786501\n",
            "Iteration 158, loss = 0.13709655\n",
            "Iteration 159, loss = 0.13634021\n",
            "Iteration 160, loss = 0.13559573\n",
            "Iteration 161, loss = 0.13486287\n",
            "Iteration 162, loss = 0.13414141\n",
            "Iteration 163, loss = 0.13343110\n",
            "Iteration 164, loss = 0.13273174\n",
            "Iteration 165, loss = 0.13204311\n",
            "Iteration 166, loss = 0.13136499\n",
            "Iteration 167, loss = 0.13069717\n",
            "Iteration 168, loss = 0.13003947\n",
            "Iteration 169, loss = 0.12939168\n",
            "Iteration 170, loss = 0.12875361\n",
            "Iteration 171, loss = 0.12812508\n",
            "Iteration 172, loss = 0.12750591\n",
            "Iteration 173, loss = 0.12689591\n",
            "Iteration 174, loss = 0.12629492\n",
            "Iteration 175, loss = 0.12570276\n",
            "Iteration 176, loss = 0.12511927\n",
            "Iteration 177, loss = 0.12454430\n",
            "Iteration 178, loss = 0.12397767\n",
            "Iteration 179, loss = 0.12341924\n",
            "Iteration 180, loss = 0.12286887\n",
            "Iteration 181, loss = 0.12232639\n",
            "Iteration 182, loss = 0.12179166\n",
            "Iteration 183, loss = 0.12126456\n",
            "Iteration 184, loss = 0.12074493\n",
            "Iteration 185, loss = 0.12023264\n",
            "Iteration 186, loss = 0.11972757\n",
            "Iteration 187, loss = 0.11922958\n",
            "Iteration 188, loss = 0.11873854\n",
            "Iteration 189, loss = 0.11825434\n",
            "Iteration 190, loss = 0.11777685\n",
            "Iteration 191, loss = 0.11730595\n",
            "Iteration 192, loss = 0.11684154\n",
            "Iteration 193, loss = 0.11638348\n",
            "Iteration 194, loss = 0.11593168\n",
            "Iteration 195, loss = 0.11548602\n",
            "Iteration 196, loss = 0.11504640\n",
            "Iteration 197, loss = 0.11461272\n",
            "Iteration 198, loss = 0.11418486\n",
            "Iteration 199, loss = 0.11376273\n",
            "Iteration 200, loss = 0.11334624\n"
          ]
        },
        {
          "output_type": "stream",
          "name": "stderr",
          "text": [
            "/usr/local/lib/python3.10/dist-packages/sklearn/neural_network/_multilayer_perceptron.py:686: ConvergenceWarning: Stochastic Optimizer: Maximum iterations (200) reached and the optimization hasn't converged yet.\n",
            "  warnings.warn(\n"
          ]
        },
        {
          "output_type": "execute_result",
          "data": {
            "text/plain": [
              "1.0"
            ]
          },
          "metadata": {},
          "execution_count": 33
        }
      ]
    },
    {
      "cell_type": "markdown",
      "source": [
        "## MLP classifier has 4 activation function.They are\n",
        "\n",
        "1.   identity --> f(x)=x\n",
        "2.   logistic --> f(x) = 1 / (1 + exp(-x))\n",
        "3.   tanh     --> f(x)=tanh(x)\n",
        "4.   relu     --> f(x)=max(0,x)\n",
        "\n",
        "relu is a default one"
      ],
      "metadata": {
        "id": "rs-atJzNAblR"
      }
    },
    {
      "cell_type": "markdown",
      "source": [
        "## MLP classifier has 3 types of solver.They are\n",
        "\n",
        "1.   lbfgs\n",
        "2.   sgd\n",
        "3.   adam\n",
        "\n",
        "adam is usually used if dataset is larget.\n",
        "If dataset is smaller lbfgs is used"
      ],
      "metadata": {
        "id": "dXKzZrVEB0lV"
      }
    },
    {
      "cell_type": "code",
      "source": [],
      "metadata": {
        "id": "Wg6dEPuuBZ_J"
      },
      "execution_count": null,
      "outputs": []
    }
  ]
}