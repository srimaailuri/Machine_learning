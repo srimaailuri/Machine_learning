{
  "nbformat": 4,
  "nbformat_minor": 0,
  "metadata": {
    "colab": {
      "provenance": [],
      "authorship_tag": "ABX9TyPq8h5Uft4plxm8xaUYe6jh",
      "include_colab_link": true
    },
    "kernelspec": {
      "name": "python3",
      "display_name": "Python 3"
    },
    "language_info": {
      "name": "python"
    }
  },
  "cells": [
    {
      "cell_type": "markdown",
      "metadata": {
        "id": "view-in-github",
        "colab_type": "text"
      },
      "source": [
        "<a href=\"https://colab.research.google.com/github/srimaailuri/Machine_learning/blob/master/KFold.ipynb\" target=\"_parent\"><img src=\"https://colab.research.google.com/assets/colab-badge.svg\" alt=\"Open In Colab\"/></a>"
      ]
    },
    {
      "cell_type": "code",
      "execution_count": null,
      "metadata": {
        "id": "Rom8vrSmnzgT"
      },
      "outputs": [],
      "source": [
        "from sklearn.linear_model import LogisticRegression\n",
        "from sklearn.svm import SVC\n",
        "from sklearn.ensemble import RandomForestClassifier\n",
        "import numpy as np\n",
        "from sklearn.datasets import load_digits\n",
        "import matplotlib.pyplot as plt"
      ]
    },
    {
      "cell_type": "code",
      "source": [
        "digits=load_digits()"
      ],
      "metadata": {
        "id": "qwsrfwNQouxb"
      },
      "execution_count": null,
      "outputs": []
    },
    {
      "cell_type": "code",
      "source": [
        "from sklearn.model_selection import train_test_split\n",
        "X_train,X_test,y_train,y_test=train_test_split(digits.data,digits.target,test_size=0.3)"
      ],
      "metadata": {
        "id": "xMPzRlw-n5x-"
      },
      "execution_count": null,
      "outputs": []
    },
    {
      "cell_type": "code",
      "source": [
        "lr=LogisticRegression(solver='liblinear',multi_class='ovr')\n",
        "lr.fit(X_train,y_train)\n",
        "lr.score(X_test,y_test)"
      ],
      "metadata": {
        "colab": {
          "base_uri": "https://localhost:8080/"
        },
        "id": "NoCoLxIcn5tO",
        "outputId": "a3b4e8bf-f825-4b9c-f52e-d4c3948b39a0"
      },
      "execution_count": null,
      "outputs": [
        {
          "output_type": "execute_result",
          "data": {
            "text/plain": [
              "0.9611111111111111"
            ]
          },
          "metadata": {},
          "execution_count": 16
        }
      ]
    },
    {
      "cell_type": "code",
      "source": [
        "LogisticRegression?"
      ],
      "metadata": {
        "id": "_uP3MOQgn5pv"
      },
      "execution_count": null,
      "outputs": []
    },
    {
      "cell_type": "code",
      "source": [
        "svm=SVC(gamma='auto')\n",
        "svm.fit(X_train,y_train)\n",
        "svm.score(X_test,y_test)"
      ],
      "metadata": {
        "colab": {
          "base_uri": "https://localhost:8080/"
        },
        "id": "urhCdtKBn5nC",
        "outputId": "54bb6cd9-1a69-44e6-a582-e1aa5d680e5a"
      },
      "execution_count": null,
      "outputs": [
        {
          "output_type": "execute_result",
          "data": {
            "text/plain": [
              "0.39814814814814814"
            ]
          },
          "metadata": {},
          "execution_count": 17
        }
      ]
    },
    {
      "cell_type": "code",
      "source": [
        "rf = RandomForestClassifier(n_estimators=40)\n",
        "rf.fit(X_train, y_train)\n",
        "rf.score(X_test, y_test)"
      ],
      "metadata": {
        "colab": {
          "base_uri": "https://localhost:8080/"
        },
        "id": "uMefx10Xn5lD",
        "outputId": "8a17718d-5038-4bb2-c0f2-19a737670db6"
      },
      "execution_count": null,
      "outputs": [
        {
          "output_type": "execute_result",
          "data": {
            "text/plain": [
              "0.9629629629629629"
            ]
          },
          "metadata": {},
          "execution_count": 18
        }
      ]
    },
    {
      "cell_type": "code",
      "source": [
        "?SVC"
      ],
      "metadata": {
        "id": "9i7PAPyBsbIs"
      },
      "execution_count": null,
      "outputs": []
    },
    {
      "cell_type": "code",
      "source": [
        "rf?"
      ],
      "metadata": {
        "id": "4BAcUIMrsbLA"
      },
      "execution_count": null,
      "outputs": []
    },
    {
      "cell_type": "code",
      "source": [
        "from sklearn.model_selection import KFold\n",
        "kf=KFold(n_splits=3)\n",
        "kf"
      ],
      "metadata": {
        "colab": {
          "base_uri": "https://localhost:8080/"
        },
        "id": "ZTmrOI_hsbOk",
        "outputId": "73d7e557-f6fc-4fb8-8a22-e0ac41c9216a"
      },
      "execution_count": null,
      "outputs": [
        {
          "output_type": "execute_result",
          "data": {
            "text/plain": [
              "KFold(n_splits=3, random_state=None, shuffle=False)"
            ]
          },
          "metadata": {},
          "execution_count": 22
        }
      ]
    },
    {
      "cell_type": "code",
      "source": [
        "for train_index,test_index in kf.split([1,2,3,4,5,6,7,8,9]):\n",
        "  print(train_index,test_index)"
      ],
      "metadata": {
        "id": "XeZIuK2On5ic",
        "colab": {
          "base_uri": "https://localhost:8080/"
        },
        "outputId": "98b0eee0-2b15-4753-f1a1-d294458b7778"
      },
      "execution_count": 24,
      "outputs": [
        {
          "output_type": "stream",
          "name": "stdout",
          "text": [
            "[3 4 5 6 7 8] [0 1 2]\n",
            "[0 1 2 6 7 8] [3 4 5]\n",
            "[0 1 2 3 4 5] [6 7 8]\n"
          ]
        }
      ]
    },
    {
      "cell_type": "code",
      "source": [
        "def get_score(model,x_train,y_train,x_test,y_test):\n",
        "  model.fit(x_train,y_train)\n",
        "  return model.score(x_test,y_test)"
      ],
      "metadata": {
        "id": "R2NDRqIvn5gJ"
      },
      "execution_count": 25,
      "outputs": []
    },
    {
      "cell_type": "code",
      "source": [
        "from sklearn.model_selection import StratifiedKFold\n",
        "fold=StratifiedKFold(n_splits=3)\n",
        "\n",
        "scores_logistic=[]\n",
        "scores_SVC=[]\n",
        "scores_RF=[]\n",
        "\n",
        "for train_index,test_index in kf.split(digits.data,digits.target):\n",
        "  x_train,x_test,y_train,y_test=digits.data[train_index],digits.data[test_index],digits.target[train_index],digits.target[test_index]\n",
        "  scores_logistic.append(get_score(LogisticRegression(solver='liblinear',multi_class='ovr'),x_train,y_train,x_test,y_test))\n",
        "  scores_SVC.append(get_score(SVC(),x_train,y_train,x_test,y_test))\n",
        "  scores_RF.append(get_score(RandomForestClassifier(n_estimators=20),x_train,y_train,x_test,y_test))\n"
      ],
      "metadata": {
        "id": "EOsBW6Qzu_2L"
      },
      "execution_count": 34,
      "outputs": []
    },
    {
      "cell_type": "markdown",
      "source": [
        "multi_class='ovr'\n",
        "ovr = one vs rest\n",
        "ex: ['apple','bat','cat']\n",
        "*   'apple' vs ['bat','cat']\n",
        "*   'bat' vs ['apple','cat']\n",
        "*   'cat' vs ['apple','bat']\n",
        "\n",
        "multi_class='ovo'\n",
        "ovo -- one vs one\n",
        "\n",
        "ex: ['apple','bat','cat']\n",
        "*   'apple' vs 'bat'\n",
        "*   'apple' vs 'cat'\n",
        "*  'bat' vs 'cat'\n",
        "*  'bat' vs 'apple'\n",
        "*   'cat' vs 'apple'\n",
        "*   'cat' vs 'bat'"
      ],
      "metadata": {
        "id": "3AbYOonl33Jl"
      }
    },
    {
      "cell_type": "code",
      "source": [
        "scores_logistic"
      ],
      "metadata": {
        "colab": {
          "base_uri": "https://localhost:8080/"
        },
        "id": "T8-Jx9Jhu_43",
        "outputId": "c3d8ec47-d700-45d8-c31a-410c415d9830"
      },
      "execution_count": 35,
      "outputs": [
        {
          "output_type": "execute_result",
          "data": {
            "text/plain": [
              "[0.8964941569282137, 0.9515859766277128, 0.9115191986644408]"
            ]
          },
          "metadata": {},
          "execution_count": 35
        }
      ]
    },
    {
      "cell_type": "code",
      "source": [
        "scores_SVC"
      ],
      "metadata": {
        "colab": {
          "base_uri": "https://localhost:8080/"
        },
        "id": "wMU4Yb5eu_8K",
        "outputId": "2bea545c-4bb6-4a7e-9232-90ca6b04b886"
      },
      "execution_count": 36,
      "outputs": [
        {
          "output_type": "execute_result",
          "data": {
            "text/plain": [
              "[0.9666110183639399, 0.9816360601001669, 0.9549248747913188]"
            ]
          },
          "metadata": {},
          "execution_count": 36
        }
      ]
    },
    {
      "cell_type": "code",
      "source": [
        "scores_RF"
      ],
      "metadata": {
        "colab": {
          "base_uri": "https://localhost:8080/"
        },
        "id": "ouZ5utuwvBAE",
        "outputId": "7c006100-b64d-4d2c-9d85-3572a4829324"
      },
      "execution_count": 37,
      "outputs": [
        {
          "output_type": "execute_result",
          "data": {
            "text/plain": [
              "[0.9048414023372288, 0.9565943238731218, 0.9265442404006677]"
            ]
          },
          "metadata": {},
          "execution_count": 37
        }
      ]
    },
    {
      "cell_type": "code",
      "source": [
        "from sklearn.model_selection import cross_val_score"
      ],
      "metadata": {
        "id": "2U8EBEvy3axc"
      },
      "execution_count": 38,
      "outputs": []
    },
    {
      "cell_type": "code",
      "source": [
        "scores1=cross_val_score(RandomForestClassifier(n_estimators=5),digits.data,digits.target,cv=10)\n",
        "np.average(scores1)"
      ],
      "metadata": {
        "colab": {
          "base_uri": "https://localhost:8080/"
        },
        "id": "zDlZBE1n1ZdI",
        "outputId": "aa58b517-a61d-4e93-add7-29a6bf856ada"
      },
      "execution_count": 39,
      "outputs": [
        {
          "output_type": "execute_result",
          "data": {
            "text/plain": [
              "0.8837026691495966"
            ]
          },
          "metadata": {},
          "execution_count": 39
        }
      ]
    },
    {
      "cell_type": "markdown",
      "source": [
        "you can play around with parameters to obtain high accuracy"
      ],
      "metadata": {
        "id": "l2L9MYV250KJ"
      }
    }
  ]
}